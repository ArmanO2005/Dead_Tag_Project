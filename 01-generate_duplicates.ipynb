{
 "cells": [
  {
   "cell_type": "code",
   "execution_count": 9,
   "id": "4918e394",
   "metadata": {},
   "outputs": [],
   "source": [
    "from file_processing_utils import *\n",
    "from dead_processing_utils import *"
   ]
  },
  {
   "cell_type": "code",
   "execution_count": 10,
   "id": "b8693465",
   "metadata": {},
   "outputs": [
    {
     "name": "stdout",
     "output_type": "stream",
     "text": [
      "Index(['media handling record: fileName', 'taxon', 'Taxon record: family',\n",
      "       'objectNumber', 'Taxon record: naturalHistoryCommonName',\n",
      "       'fieldLocCountry', 'briefDescription', 'fieldCollector',\n",
      "       'fieldCollectionNumber', 'fieldCollectionDateGroup', 'source',\n",
      "       'accessionDate', 'Voucher record: Wild',\n",
      "       'Voucher record: Horticultural', 'reference',\n",
      "       'referenceGroup_reference', 'Distribution record: depositor_Plant',\n",
      "       'Distribution record: depositor_Seed', 'notes', 'deadFlag',\n",
      "       'flowerColor', 'comment'],\n",
      "      dtype='object')\n"
     ]
    }
   ],
   "source": [
    "folder_path = 'dead_records_data'\n",
    "full_data = concat_df(folder_path)\n",
    "print(full_data.columns)"
   ]
  },
  {
   "cell_type": "code",
   "execution_count": 11,
   "id": "dca0456c",
   "metadata": {},
   "outputs": [
    {
     "name": "stdout",
     "output_type": "stream",
     "text": [
      "816\n"
     ]
    }
   ],
   "source": [
    "print(full_data['objectNumber'].str.count('_DUPLICATE').sum())"
   ]
  },
  {
   "cell_type": "code",
   "execution_count": 12,
   "id": "0a0247e5",
   "metadata": {},
   "outputs": [],
   "source": [
    "full_data['objectNumber'] = full_data.apply(lambda x: str(x['objectNumber']).replace('_DUPLICATE', ''), axis=1)"
   ]
  },
  {
   "cell_type": "code",
   "execution_count": 13,
   "id": "4a5eff8b",
   "metadata": {},
   "outputs": [],
   "source": [
    "full_data.to_csv('output/full_data.csv', index=False)"
   ]
  },
  {
   "cell_type": "code",
   "execution_count": 14,
   "id": "5903ebff",
   "metadata": {},
   "outputs": [],
   "source": [
    "duplicates = full_data[full_data.duplicated(subset=['objectNumber'], keep=False)]\n",
    "duplicates = duplicates.sort_values(by=['objectNumber'])"
   ]
  },
  {
   "cell_type": "code",
   "execution_count": 15,
   "id": "07d9e50f",
   "metadata": {},
   "outputs": [],
   "source": [
    "duplicates.to_csv('output/duplicates.csv', index=False)"
   ]
  },
  {
   "cell_type": "code",
   "execution_count": 16,
   "id": "80106f80",
   "metadata": {},
   "outputs": [
    {
     "name": "stdout",
     "output_type": "stream",
     "text": [
      "1182\n"
     ]
    }
   ],
   "source": [
    "print(len(duplicates))"
   ]
  }
 ],
 "metadata": {
  "kernelspec": {
   "display_name": "BK_Tree_Env",
   "language": "python",
   "name": "python3"
  },
  "language_info": {
   "codemirror_mode": {
    "name": "ipython",
    "version": 3
   },
   "file_extension": ".py",
   "mimetype": "text/x-python",
   "name": "python",
   "nbconvert_exporter": "python",
   "pygments_lexer": "ipython3",
   "version": "3.13.5"
  }
 },
 "nbformat": 4,
 "nbformat_minor": 5
}
