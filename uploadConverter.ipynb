{
 "cells": [
  {
   "cell_type": "markdown",
   "id": "28daa976",
   "metadata": {},
   "source": [
    "### Dead Card Processing Notebook"
   ]
  },
  {
   "cell_type": "code",
   "execution_count": 1,
   "id": "ed46c959",
   "metadata": {},
   "outputs": [],
   "source": [
    "import pandas as pd\n",
    "import numpy as np\n",
    "from BK_Tree import BKTree\n",
    "import re\n",
    "import string\n",
    "from DeadProcessing import *"
   ]
  },
  {
   "cell_type": "code",
   "execution_count": 2,
   "id": "99426460",
   "metadata": {},
   "outputs": [],
   "source": [
    "input_path = f\"data/DeadRecords_PSE_results_final.csv\"\n",
    "input_df = pd.read_csv(input_path)\n",
    "\n",
    "determination_key = pd.read_csv(\"data/NoAuthorTest.csv\")\n",
    "determination_key['no_author'] = determination_key['no_author'].apply(lambda x: punctStrip(x))"
   ]
  },
  {
   "cell_type": "code",
   "execution_count": 3,
   "id": "788edeb7",
   "metadata": {},
   "outputs": [],
   "source": [
    "input_df = TaxonNoAuthor(input_df, 'taxon')\n",
    "input_df['***no_author'] = input_df['***no_author'].apply(lambda x: punctStrip(x))\n",
    "input_df['is_cultivar'] = input_df['***no_author'].apply(lambda x: detectCultivar(x))\n",
    "input_df['***no_author'] = input_df.apply(lambda x: x['***no_author'].split()[0] if x['is_cultivar'] else x['***no_author'], axis=1)"
   ]
  },
  {
   "cell_type": "markdown",
   "id": "00403530",
   "metadata": {},
   "source": [
    "### Detect cultivars"
   ]
  },
  {
   "cell_type": "code",
   "execution_count": 4,
   "id": "98a260af",
   "metadata": {},
   "outputs": [],
   "source": [
    "input_df['cultivar'] = input_df['***no_author'].apply(lambda x: detectCultivar(x))"
   ]
  },
  {
   "cell_type": "markdown",
   "id": "651b2949",
   "metadata": {},
   "source": [
    "### Determine which taxon records are already present in the DB"
   ]
  },
  {
   "cell_type": "code",
   "execution_count": 5,
   "id": "6539d2a6",
   "metadata": {},
   "outputs": [
    {
     "name": "stdout",
     "output_type": "stream",
     "text": [
      "Taxon not in database verbatim: 412\n"
     ]
    }
   ],
   "source": [
    "input_df['taxon_missing'] = input_df['***no_author'].apply(lambda x: True if x not in determination_key['no_author'].values else False)\n",
    "taxon_to_add = input_df[input_df['taxon_missing']]['***no_author'].unique()\n",
    "taxon_to_add = input_df[input_df['***no_author'].isin(taxon_to_add)]\n",
    "already_in_db = input_df[~input_df['taxon_missing']]\n",
    "\n",
    "print(\"Taxon not in database verbatim: {}\".format(len(taxon_to_add))) "
   ]
  },
  {
   "cell_type": "markdown",
   "id": "1d85ba64",
   "metadata": {},
   "source": [
    "### Use the external BK_Tree rust stuff to find the closest string to a certain precision (account for minor spelling or formatting errors)"
   ]
  },
  {
   "cell_type": "markdown",
   "id": "f94dbcd4",
   "metadata": {},
   "source": [
    "Load the tree class"
   ]
  },
  {
   "cell_type": "code",
   "execution_count": 6,
   "id": "9dce9ec2",
   "metadata": {},
   "outputs": [],
   "source": [
    "tree = BKTree()\n",
    "for name in determination_key['no_author']:\n",
    "    tree.insert(name)"
   ]
  },
  {
   "cell_type": "code",
   "execution_count": 7,
   "id": "7f5cd5e4",
   "metadata": {},
   "outputs": [
    {
     "name": "stderr",
     "output_type": "stream",
     "text": [
      "C:\\Users\\arman\\AppData\\Local\\Temp\\ipykernel_34624\\3972783170.py:1: SettingWithCopyWarning: \n",
      "A value is trying to be set on a copy of a slice from a DataFrame.\n",
      "Try using .loc[row_indexer,col_indexer] = value instead\n",
      "\n",
      "See the caveats in the documentation: https://pandas.pydata.org/pandas-docs/stable/user_guide/indexing.html#returning-a-view-versus-a-copy\n",
      "  taxon_to_add['recommendation'] = taxon_to_add['***no_author'].apply(lambda x: sortOutput(tree.search(x, 2)))\n"
     ]
    }
   ],
   "source": [
    "taxon_to_add['recommendation'] = taxon_to_add['***no_author'].apply(lambda x: sortOutput(tree.search(x, 2)))"
   ]
  },
  {
   "cell_type": "code",
   "execution_count": 8,
   "id": "3bf35c4c",
   "metadata": {},
   "outputs": [],
   "source": [
    "subtractions = taxon_to_add[taxon_to_add['recommendation'].apply(lambda x: len(x) > 0)]\n",
    "taxon_to_add = taxon_to_add[taxon_to_add['recommendation'].apply(lambda x: len(x) == 0)]"
   ]
  },
  {
   "cell_type": "code",
   "execution_count": 9,
   "id": "f0a896ab",
   "metadata": {},
   "outputs": [
    {
     "name": "stdout",
     "output_type": "stream",
     "text": [
      "taxon already in database w/ spellcheck: 740\n",
      "taxon to add: 340\n"
     ]
    }
   ],
   "source": [
    "subtractions['***no_author'] = subtractions['recommendation'].apply(lambda x: x[0][0])\n",
    "subtractions = subtractions.drop('recommendation', axis=1)\n",
    "\n",
    "already_in_db = pd.concat([subtractions, already_in_db], axis=0, ignore_index=True)\n",
    "\n",
    "print(\"taxon already in database w/ spellcheck: {}\".format(len(already_in_db)))\n",
    "print(\"taxon to add: {}\".format(len(taxon_to_add)))"
   ]
  },
  {
   "cell_type": "markdown",
   "id": "1a02bc83",
   "metadata": {},
   "source": [
    "### Add location and collector guess from DB "
   ]
  },
  {
   "cell_type": "code",
   "execution_count": 10,
   "id": "9bc64a46",
   "metadata": {},
   "outputs": [],
   "source": [
    "MatchLocation(already_in_db, 'fieldLocCountry')\n",
    "MatchLocation(taxon_to_add, 'fieldLocCountry')"
   ]
  },
  {
   "cell_type": "code",
   "execution_count": null,
   "id": "4b8ea2f0",
   "metadata": {},
   "outputs": [],
   "source": [
    "# Work in Progress\n",
    "MatchCollector(already_in_db, 'fieldCollector')\n",
    "MatchCollector(taxon_to_add, 'fieldCollector')"
   ]
  },
  {
   "cell_type": "code",
   "execution_count": 13,
   "id": "58b0d7ce",
   "metadata": {},
   "outputs": [],
   "source": [
    "already_in_db.to_csv(\"output/already_in_db.csv\", index=False)\n",
    "taxon_to_add.to_csv(\"output/taxon_to_add.csv\", index=False)"
   ]
  }
 ],
 "metadata": {
  "kernelspec": {
   "display_name": "BK_Tree_Env",
   "language": "python",
   "name": "python3"
  },
  "language_info": {
   "codemirror_mode": {
    "name": "ipython",
    "version": 3
   },
   "file_extension": ".py",
   "mimetype": "text/x-python",
   "name": "python",
   "nbconvert_exporter": "python",
   "pygments_lexer": "ipython3",
   "version": "3.13.5"
  }
 },
 "nbformat": 4,
 "nbformat_minor": 5
}
