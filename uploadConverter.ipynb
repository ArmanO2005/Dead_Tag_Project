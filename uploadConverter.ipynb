{
 "cells": [
  {
   "cell_type": "markdown",
   "id": "28daa976",
   "metadata": {},
   "source": [
    "### Dead Card Processing Notebook"
   ]
  },
  {
   "cell_type": "code",
   "execution_count": 1,
   "id": "ed46c959",
   "metadata": {},
   "outputs": [],
   "source": [
    "import pandas as pd\n",
    "import numpy as np\n",
    "from BK_Tree import BKTree\n",
    "import re\n",
    "import string\n",
    "from dead_processing_utils import *"
   ]
  },
  {
   "cell_type": "code",
   "execution_count": 2,
   "id": "99426460",
   "metadata": {},
   "outputs": [
    {
     "ename": "FileNotFoundError",
     "evalue": "[Errno 2] No such file or directory: 'data/DeadRecords_PSE_results_final.csv'",
     "output_type": "error",
     "traceback": [
      "\u001b[31m---------------------------------------------------------------------------\u001b[39m",
      "\u001b[31mFileNotFoundError\u001b[39m                         Traceback (most recent call last)",
      "\u001b[36mCell\u001b[39m\u001b[36m \u001b[39m\u001b[32mIn[2]\u001b[39m\u001b[32m, line 2\u001b[39m\n\u001b[32m      1\u001b[39m input_path = \u001b[33mf\u001b[39m\u001b[33m\"\u001b[39m\u001b[33mdata/DeadRecords_PSE_results_final.csv\u001b[39m\u001b[33m\"\u001b[39m\n\u001b[32m----> \u001b[39m\u001b[32m2\u001b[39m input_df = \u001b[43mpd\u001b[49m\u001b[43m.\u001b[49m\u001b[43mread_csv\u001b[49m\u001b[43m(\u001b[49m\u001b[43minput_path\u001b[49m\u001b[43m)\u001b[49m\n\u001b[32m      4\u001b[39m determination_key = pd.read_csv(\u001b[33m\"\u001b[39m\u001b[33mdata/NoAuthorTest.csv\u001b[39m\u001b[33m\"\u001b[39m)\n\u001b[32m      5\u001b[39m determination_key[\u001b[33m'\u001b[39m\u001b[33mno_author\u001b[39m\u001b[33m'\u001b[39m] = determination_key[\u001b[33m'\u001b[39m\u001b[33mno_author\u001b[39m\u001b[33m'\u001b[39m].apply(\u001b[38;5;28;01mlambda\u001b[39;00m x: punctStrip(x))\n",
      "\u001b[36mFile \u001b[39m\u001b[32mc:\\Users\\arman\\anaconda3\\envs\\BK_Tree_Env\\Lib\\site-packages\\pandas\\io\\parsers\\readers.py:1026\u001b[39m, in \u001b[36mread_csv\u001b[39m\u001b[34m(filepath_or_buffer, sep, delimiter, header, names, index_col, usecols, dtype, engine, converters, true_values, false_values, skipinitialspace, skiprows, skipfooter, nrows, na_values, keep_default_na, na_filter, verbose, skip_blank_lines, parse_dates, infer_datetime_format, keep_date_col, date_parser, date_format, dayfirst, cache_dates, iterator, chunksize, compression, thousands, decimal, lineterminator, quotechar, quoting, doublequote, escapechar, comment, encoding, encoding_errors, dialect, on_bad_lines, delim_whitespace, low_memory, memory_map, float_precision, storage_options, dtype_backend)\u001b[39m\n\u001b[32m   1013\u001b[39m kwds_defaults = _refine_defaults_read(\n\u001b[32m   1014\u001b[39m     dialect,\n\u001b[32m   1015\u001b[39m     delimiter,\n\u001b[32m   (...)\u001b[39m\u001b[32m   1022\u001b[39m     dtype_backend=dtype_backend,\n\u001b[32m   1023\u001b[39m )\n\u001b[32m   1024\u001b[39m kwds.update(kwds_defaults)\n\u001b[32m-> \u001b[39m\u001b[32m1026\u001b[39m \u001b[38;5;28;01mreturn\u001b[39;00m \u001b[43m_read\u001b[49m\u001b[43m(\u001b[49m\u001b[43mfilepath_or_buffer\u001b[49m\u001b[43m,\u001b[49m\u001b[43m \u001b[49m\u001b[43mkwds\u001b[49m\u001b[43m)\u001b[49m\n",
      "\u001b[36mFile \u001b[39m\u001b[32mc:\\Users\\arman\\anaconda3\\envs\\BK_Tree_Env\\Lib\\site-packages\\pandas\\io\\parsers\\readers.py:620\u001b[39m, in \u001b[36m_read\u001b[39m\u001b[34m(filepath_or_buffer, kwds)\u001b[39m\n\u001b[32m    617\u001b[39m _validate_names(kwds.get(\u001b[33m\"\u001b[39m\u001b[33mnames\u001b[39m\u001b[33m\"\u001b[39m, \u001b[38;5;28;01mNone\u001b[39;00m))\n\u001b[32m    619\u001b[39m \u001b[38;5;66;03m# Create the parser.\u001b[39;00m\n\u001b[32m--> \u001b[39m\u001b[32m620\u001b[39m parser = \u001b[43mTextFileReader\u001b[49m\u001b[43m(\u001b[49m\u001b[43mfilepath_or_buffer\u001b[49m\u001b[43m,\u001b[49m\u001b[43m \u001b[49m\u001b[43m*\u001b[49m\u001b[43m*\u001b[49m\u001b[43mkwds\u001b[49m\u001b[43m)\u001b[49m\n\u001b[32m    622\u001b[39m \u001b[38;5;28;01mif\u001b[39;00m chunksize \u001b[38;5;129;01mor\u001b[39;00m iterator:\n\u001b[32m    623\u001b[39m     \u001b[38;5;28;01mreturn\u001b[39;00m parser\n",
      "\u001b[36mFile \u001b[39m\u001b[32mc:\\Users\\arman\\anaconda3\\envs\\BK_Tree_Env\\Lib\\site-packages\\pandas\\io\\parsers\\readers.py:1620\u001b[39m, in \u001b[36mTextFileReader.__init__\u001b[39m\u001b[34m(self, f, engine, **kwds)\u001b[39m\n\u001b[32m   1617\u001b[39m     \u001b[38;5;28mself\u001b[39m.options[\u001b[33m\"\u001b[39m\u001b[33mhas_index_names\u001b[39m\u001b[33m\"\u001b[39m] = kwds[\u001b[33m\"\u001b[39m\u001b[33mhas_index_names\u001b[39m\u001b[33m\"\u001b[39m]\n\u001b[32m   1619\u001b[39m \u001b[38;5;28mself\u001b[39m.handles: IOHandles | \u001b[38;5;28;01mNone\u001b[39;00m = \u001b[38;5;28;01mNone\u001b[39;00m\n\u001b[32m-> \u001b[39m\u001b[32m1620\u001b[39m \u001b[38;5;28mself\u001b[39m._engine = \u001b[38;5;28;43mself\u001b[39;49m\u001b[43m.\u001b[49m\u001b[43m_make_engine\u001b[49m\u001b[43m(\u001b[49m\u001b[43mf\u001b[49m\u001b[43m,\u001b[49m\u001b[43m \u001b[49m\u001b[38;5;28;43mself\u001b[39;49m\u001b[43m.\u001b[49m\u001b[43mengine\u001b[49m\u001b[43m)\u001b[49m\n",
      "\u001b[36mFile \u001b[39m\u001b[32mc:\\Users\\arman\\anaconda3\\envs\\BK_Tree_Env\\Lib\\site-packages\\pandas\\io\\parsers\\readers.py:1880\u001b[39m, in \u001b[36mTextFileReader._make_engine\u001b[39m\u001b[34m(self, f, engine)\u001b[39m\n\u001b[32m   1878\u001b[39m     \u001b[38;5;28;01mif\u001b[39;00m \u001b[33m\"\u001b[39m\u001b[33mb\u001b[39m\u001b[33m\"\u001b[39m \u001b[38;5;129;01mnot\u001b[39;00m \u001b[38;5;129;01min\u001b[39;00m mode:\n\u001b[32m   1879\u001b[39m         mode += \u001b[33m\"\u001b[39m\u001b[33mb\u001b[39m\u001b[33m\"\u001b[39m\n\u001b[32m-> \u001b[39m\u001b[32m1880\u001b[39m \u001b[38;5;28mself\u001b[39m.handles = \u001b[43mget_handle\u001b[49m\u001b[43m(\u001b[49m\n\u001b[32m   1881\u001b[39m \u001b[43m    \u001b[49m\u001b[43mf\u001b[49m\u001b[43m,\u001b[49m\n\u001b[32m   1882\u001b[39m \u001b[43m    \u001b[49m\u001b[43mmode\u001b[49m\u001b[43m,\u001b[49m\n\u001b[32m   1883\u001b[39m \u001b[43m    \u001b[49m\u001b[43mencoding\u001b[49m\u001b[43m=\u001b[49m\u001b[38;5;28;43mself\u001b[39;49m\u001b[43m.\u001b[49m\u001b[43moptions\u001b[49m\u001b[43m.\u001b[49m\u001b[43mget\u001b[49m\u001b[43m(\u001b[49m\u001b[33;43m\"\u001b[39;49m\u001b[33;43mencoding\u001b[39;49m\u001b[33;43m\"\u001b[39;49m\u001b[43m,\u001b[49m\u001b[43m \u001b[49m\u001b[38;5;28;43;01mNone\u001b[39;49;00m\u001b[43m)\u001b[49m\u001b[43m,\u001b[49m\n\u001b[32m   1884\u001b[39m \u001b[43m    \u001b[49m\u001b[43mcompression\u001b[49m\u001b[43m=\u001b[49m\u001b[38;5;28;43mself\u001b[39;49m\u001b[43m.\u001b[49m\u001b[43moptions\u001b[49m\u001b[43m.\u001b[49m\u001b[43mget\u001b[49m\u001b[43m(\u001b[49m\u001b[33;43m\"\u001b[39;49m\u001b[33;43mcompression\u001b[39;49m\u001b[33;43m\"\u001b[39;49m\u001b[43m,\u001b[49m\u001b[43m \u001b[49m\u001b[38;5;28;43;01mNone\u001b[39;49;00m\u001b[43m)\u001b[49m\u001b[43m,\u001b[49m\n\u001b[32m   1885\u001b[39m \u001b[43m    \u001b[49m\u001b[43mmemory_map\u001b[49m\u001b[43m=\u001b[49m\u001b[38;5;28;43mself\u001b[39;49m\u001b[43m.\u001b[49m\u001b[43moptions\u001b[49m\u001b[43m.\u001b[49m\u001b[43mget\u001b[49m\u001b[43m(\u001b[49m\u001b[33;43m\"\u001b[39;49m\u001b[33;43mmemory_map\u001b[39;49m\u001b[33;43m\"\u001b[39;49m\u001b[43m,\u001b[49m\u001b[43m \u001b[49m\u001b[38;5;28;43;01mFalse\u001b[39;49;00m\u001b[43m)\u001b[49m\u001b[43m,\u001b[49m\n\u001b[32m   1886\u001b[39m \u001b[43m    \u001b[49m\u001b[43mis_text\u001b[49m\u001b[43m=\u001b[49m\u001b[43mis_text\u001b[49m\u001b[43m,\u001b[49m\n\u001b[32m   1887\u001b[39m \u001b[43m    \u001b[49m\u001b[43merrors\u001b[49m\u001b[43m=\u001b[49m\u001b[38;5;28;43mself\u001b[39;49m\u001b[43m.\u001b[49m\u001b[43moptions\u001b[49m\u001b[43m.\u001b[49m\u001b[43mget\u001b[49m\u001b[43m(\u001b[49m\u001b[33;43m\"\u001b[39;49m\u001b[33;43mencoding_errors\u001b[39;49m\u001b[33;43m\"\u001b[39;49m\u001b[43m,\u001b[49m\u001b[43m \u001b[49m\u001b[33;43m\"\u001b[39;49m\u001b[33;43mstrict\u001b[39;49m\u001b[33;43m\"\u001b[39;49m\u001b[43m)\u001b[49m\u001b[43m,\u001b[49m\n\u001b[32m   1888\u001b[39m \u001b[43m    \u001b[49m\u001b[43mstorage_options\u001b[49m\u001b[43m=\u001b[49m\u001b[38;5;28;43mself\u001b[39;49m\u001b[43m.\u001b[49m\u001b[43moptions\u001b[49m\u001b[43m.\u001b[49m\u001b[43mget\u001b[49m\u001b[43m(\u001b[49m\u001b[33;43m\"\u001b[39;49m\u001b[33;43mstorage_options\u001b[39;49m\u001b[33;43m\"\u001b[39;49m\u001b[43m,\u001b[49m\u001b[43m \u001b[49m\u001b[38;5;28;43;01mNone\u001b[39;49;00m\u001b[43m)\u001b[49m\u001b[43m,\u001b[49m\n\u001b[32m   1889\u001b[39m \u001b[43m\u001b[49m\u001b[43m)\u001b[49m\n\u001b[32m   1890\u001b[39m \u001b[38;5;28;01massert\u001b[39;00m \u001b[38;5;28mself\u001b[39m.handles \u001b[38;5;129;01mis\u001b[39;00m \u001b[38;5;129;01mnot\u001b[39;00m \u001b[38;5;28;01mNone\u001b[39;00m\n\u001b[32m   1891\u001b[39m f = \u001b[38;5;28mself\u001b[39m.handles.handle\n",
      "\u001b[36mFile \u001b[39m\u001b[32mc:\\Users\\arman\\anaconda3\\envs\\BK_Tree_Env\\Lib\\site-packages\\pandas\\io\\common.py:873\u001b[39m, in \u001b[36mget_handle\u001b[39m\u001b[34m(path_or_buf, mode, encoding, compression, memory_map, is_text, errors, storage_options)\u001b[39m\n\u001b[32m    868\u001b[39m \u001b[38;5;28;01melif\u001b[39;00m \u001b[38;5;28misinstance\u001b[39m(handle, \u001b[38;5;28mstr\u001b[39m):\n\u001b[32m    869\u001b[39m     \u001b[38;5;66;03m# Check whether the filename is to be opened in binary mode.\u001b[39;00m\n\u001b[32m    870\u001b[39m     \u001b[38;5;66;03m# Binary mode does not support 'encoding' and 'newline'.\u001b[39;00m\n\u001b[32m    871\u001b[39m     \u001b[38;5;28;01mif\u001b[39;00m ioargs.encoding \u001b[38;5;129;01mand\u001b[39;00m \u001b[33m\"\u001b[39m\u001b[33mb\u001b[39m\u001b[33m\"\u001b[39m \u001b[38;5;129;01mnot\u001b[39;00m \u001b[38;5;129;01min\u001b[39;00m ioargs.mode:\n\u001b[32m    872\u001b[39m         \u001b[38;5;66;03m# Encoding\u001b[39;00m\n\u001b[32m--> \u001b[39m\u001b[32m873\u001b[39m         handle = \u001b[38;5;28;43mopen\u001b[39;49m\u001b[43m(\u001b[49m\n\u001b[32m    874\u001b[39m \u001b[43m            \u001b[49m\u001b[43mhandle\u001b[49m\u001b[43m,\u001b[49m\n\u001b[32m    875\u001b[39m \u001b[43m            \u001b[49m\u001b[43mioargs\u001b[49m\u001b[43m.\u001b[49m\u001b[43mmode\u001b[49m\u001b[43m,\u001b[49m\n\u001b[32m    876\u001b[39m \u001b[43m            \u001b[49m\u001b[43mencoding\u001b[49m\u001b[43m=\u001b[49m\u001b[43mioargs\u001b[49m\u001b[43m.\u001b[49m\u001b[43mencoding\u001b[49m\u001b[43m,\u001b[49m\n\u001b[32m    877\u001b[39m \u001b[43m            \u001b[49m\u001b[43merrors\u001b[49m\u001b[43m=\u001b[49m\u001b[43merrors\u001b[49m\u001b[43m,\u001b[49m\n\u001b[32m    878\u001b[39m \u001b[43m            \u001b[49m\u001b[43mnewline\u001b[49m\u001b[43m=\u001b[49m\u001b[33;43m\"\u001b[39;49m\u001b[33;43m\"\u001b[39;49m\u001b[43m,\u001b[49m\n\u001b[32m    879\u001b[39m \u001b[43m        \u001b[49m\u001b[43m)\u001b[49m\n\u001b[32m    880\u001b[39m     \u001b[38;5;28;01melse\u001b[39;00m:\n\u001b[32m    881\u001b[39m         \u001b[38;5;66;03m# Binary mode\u001b[39;00m\n\u001b[32m    882\u001b[39m         handle = \u001b[38;5;28mopen\u001b[39m(handle, ioargs.mode)\n",
      "\u001b[31mFileNotFoundError\u001b[39m: [Errno 2] No such file or directory: 'data/DeadRecords_PSE_results_final.csv'"
     ]
    }
   ],
   "source": [
    "input_path = f\"data/DeadRecords_PSE_results_final.csv\"\n",
    "input_df = pd.read_csv(input_path)\n",
    "\n",
    "determination_key = pd.read_csv(\"data/NoAuthorTest.csv\")\n",
    "determination_key['no_author'] = determination_key['no_author'].apply(lambda x: punctStrip(x))"
   ]
  },
  {
   "cell_type": "code",
   "execution_count": null,
   "id": "788edeb7",
   "metadata": {},
   "outputs": [],
   "source": [
    "input_df = TaxonNoAuthor(input_df, 'taxon')\n",
    "input_df['***no_author'] = input_df['***no_author'].apply(lambda x: punctStrip(x))\n",
    "input_df['is_cultivar'] = input_df['***no_author'].apply(lambda x: detectCultivar(x))\n",
    "input_df['***no_author'] = input_df.apply(lambda x: x['***no_author'].split()[0] if x['is_cultivar'] else x['***no_author'], axis=1)"
   ]
  },
  {
   "cell_type": "markdown",
   "id": "00403530",
   "metadata": {},
   "source": [
    "### Detect cultivars"
   ]
  },
  {
   "cell_type": "code",
   "execution_count": null,
   "id": "98a260af",
   "metadata": {},
   "outputs": [],
   "source": [
    "input_df['cultivar'] = input_df['***no_author'].apply(lambda x: detectCultivar(x))"
   ]
  },
  {
   "cell_type": "markdown",
   "id": "651b2949",
   "metadata": {},
   "source": [
    "### Determine which taxon records are already present in the DB"
   ]
  },
  {
   "cell_type": "code",
   "execution_count": null,
   "id": "6539d2a6",
   "metadata": {},
   "outputs": [
    {
     "name": "stdout",
     "output_type": "stream",
     "text": [
      "Taxon not in database verbatim: 412\n"
     ]
    }
   ],
   "source": [
    "input_df['taxon_missing'] = input_df['***no_author'].apply(lambda x: True if x not in determination_key['no_author'].values else False)\n",
    "taxon_to_add = input_df[input_df['taxon_missing']]['***no_author'].unique()\n",
    "taxon_to_add = input_df[input_df['***no_author'].isin(taxon_to_add)]\n",
    "already_in_db = input_df[~input_df['taxon_missing']]\n",
    "\n",
    "print(\"Taxon not in database verbatim: {}\".format(len(taxon_to_add))) "
   ]
  },
  {
   "cell_type": "markdown",
   "id": "1d85ba64",
   "metadata": {},
   "source": [
    "### Use the external BK_Tree rust stuff to find the closest string to a certain precision (account for minor spelling or formatting errors)"
   ]
  },
  {
   "cell_type": "markdown",
   "id": "f94dbcd4",
   "metadata": {},
   "source": [
    "Load the tree class"
   ]
  },
  {
   "cell_type": "code",
   "execution_count": null,
   "id": "9dce9ec2",
   "metadata": {},
   "outputs": [],
   "source": [
    "taxaTree = BKTree()\n",
    "for name in determination_key['no_author']:\n",
    "    taxaTree.insert(name)"
   ]
  },
  {
   "cell_type": "code",
   "execution_count": null,
   "id": "7f5cd5e4",
   "metadata": {},
   "outputs": [
    {
     "name": "stderr",
     "output_type": "stream",
     "text": [
      "C:\\Users\\arman\\AppData\\Local\\Temp\\ipykernel_5928\\1825728159.py:1: SettingWithCopyWarning: \n",
      "A value is trying to be set on a copy of a slice from a DataFrame.\n",
      "Try using .loc[row_indexer,col_indexer] = value instead\n",
      "\n",
      "See the caveats in the documentation: https://pandas.pydata.org/pandas-docs/stable/user_guide/indexing.html#returning-a-view-versus-a-copy\n",
      "  taxon_to_add['recommendation'] = taxon_to_add['***no_author'].apply(lambda x: sortOutput(taxaTree.search(x, 2)))\n"
     ]
    }
   ],
   "source": [
    "taxon_to_add['recommendation'] = taxon_to_add['***no_author'].apply(lambda x: sortOutput(taxaTree.search(x, 2)))"
   ]
  },
  {
   "cell_type": "code",
   "execution_count": null,
   "id": "3bf35c4c",
   "metadata": {},
   "outputs": [],
   "source": [
    "subtractions = taxon_to_add[taxon_to_add['recommendation'].apply(lambda x: len(x) > 0)]\n",
    "taxon_to_add = taxon_to_add[taxon_to_add['recommendation'].apply(lambda x: len(x) == 0)]"
   ]
  },
  {
   "cell_type": "code",
   "execution_count": null,
   "id": "f0a896ab",
   "metadata": {},
   "outputs": [
    {
     "name": "stdout",
     "output_type": "stream",
     "text": [
      "taxon already in database w/ spellcheck: 740\n",
      "taxon to add: 340\n"
     ]
    }
   ],
   "source": [
    "subtractions['***no_author'] = subtractions['recommendation'].apply(lambda x: x[0][0])\n",
    "subtractions = subtractions.drop('recommendation', axis=1)\n",
    "\n",
    "already_in_db = pd.concat([subtractions, already_in_db], axis=0, ignore_index=True)\n",
    "\n",
    "print(\"taxon already in database w/ spellcheck: {}\".format(len(already_in_db)))\n",
    "print(\"taxon to add: {}\".format(len(taxon_to_add)))"
   ]
  },
  {
   "cell_type": "markdown",
   "id": "1a02bc83",
   "metadata": {},
   "source": [
    "### Add location and collector guess from DB "
   ]
  },
  {
   "cell_type": "code",
   "execution_count": null,
   "id": "9bc64a46",
   "metadata": {},
   "outputs": [],
   "source": [
    "MatchLocation(already_in_db, 'fieldLocCountry')\n",
    "MatchLocation(taxon_to_add, 'fieldLocCountry')"
   ]
  },
  {
   "cell_type": "code",
   "execution_count": null,
   "id": "93fed736",
   "metadata": {},
   "outputs": [],
   "source": [
    "collector_key = pd.read_csv(\"data/Collectors.csv\")"
   ]
  },
  {
   "cell_type": "code",
   "execution_count": null,
   "id": "4b8ea2f0",
   "metadata": {},
   "outputs": [],
   "source": [
    "colTree = BKTree()\n",
    "for name in collector_key['0']:\n",
    "    colTree.insert(name)"
   ]
  },
  {
   "cell_type": "code",
   "execution_count": null,
   "id": "8cb2a883",
   "metadata": {},
   "outputs": [],
   "source": [
    "def is_empty(val):\n",
    "    return pd.isna(val) or str(val).strip() == ''\n",
    "\n",
    "already_in_db['***collector_guess'] = already_in_db['fieldCollector'].apply(lambda x: sortOutput(colTree.search(reformatCol(str(x)), 3)) if not is_empty(x) else None)\n",
    "taxon_to_add['***collector_guess'] = taxon_to_add['fieldCollector'].apply(lambda x: sortOutput(colTree.search(reformatCol(str(x)), 3)) if not is_empty(x) else None)\n",
    "\n",
    "already_in_db['***collector_guess'] = already_in_db['***collector_guess'].apply(lambda x: x[0][0] if isinstance(x, list) and x else None)\n",
    "taxon_to_add['***collector_guess'] = taxon_to_add['***collector_guess'].apply(lambda x: x[0][0] if isinstance(x, list) and x else None)"
   ]
  },
  {
   "cell_type": "code",
   "execution_count": null,
   "id": "f28e3439",
   "metadata": {},
   "outputs": [
    {
     "name": "stdout",
     "output_type": "stream",
     "text": [
      "None\n"
     ]
    }
   ],
   "source": [
    "print(already_in_db['***collector_guess'][3])"
   ]
  },
  {
   "cell_type": "code",
   "execution_count": null,
   "id": "58b0d7ce",
   "metadata": {},
   "outputs": [],
   "source": [
    "already_in_db.to_csv(\"output/already_in_db.csv\", index=False)\n",
    "taxon_to_add.to_csv(\"output/taxon_to_add.csv\", index=False)"
   ]
  }
 ],
 "metadata": {
  "kernelspec": {
   "display_name": "BK_Tree_Env",
   "language": "python",
   "name": "python3"
  },
  "language_info": {
   "codemirror_mode": {
    "name": "ipython",
    "version": 3
   },
   "file_extension": ".py",
   "mimetype": "text/x-python",
   "name": "python",
   "nbconvert_exporter": "python",
   "pygments_lexer": "ipython3",
   "version": "3.13.5"
  }
 },
 "nbformat": 4,
 "nbformat_minor": 5
}
