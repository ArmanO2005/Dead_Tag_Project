{
 "cells": [
  {
   "cell_type": "code",
   "execution_count": null,
   "id": "9692dcde",
   "metadata": {},
   "outputs": [],
   "source": [
    "import pandas as pd\n",
    "from file_processing_utils import *\n",
    "from dead_processing_utils import *"
   ]
  },
  {
   "cell_type": "code",
   "execution_count": null,
   "id": "dec62ce7",
   "metadata": {},
   "outputs": [],
   "source": [
    "processed_dupes = ...\n",
    "full_data = pd.read_csv(\"data/full_data.csv\")"
   ]
  },
  {
   "cell_type": "code",
   "execution_count": null,
   "id": "4f196fcd",
   "metadata": {},
   "outputs": [],
   "source": [
    "full_data_no_dupes = full_data[~full_data['media handling record: fileName'].isin(processed_dupes['media handling record: fileName'])]\n",
    "full_data_pruned = full_data_no_dupes.append(processed_dupes)"
   ]
  },
  {
   "cell_type": "code",
   "execution_count": null,
   "id": "dde8f38f",
   "metadata": {},
   "outputs": [],
   "source": [
    "full_data_pruned.to_csv(\"data/full_data_no_dupes.csv\", index=False)"
   ]
  }
 ],
 "metadata": {
  "kernelspec": {
   "display_name": "BK_Tree_Env",
   "language": "python",
   "name": "python3"
  },
  "language_info": {
   "name": "python",
   "version": "3.13.5"
  }
 },
 "nbformat": 4,
 "nbformat_minor": 5
}
