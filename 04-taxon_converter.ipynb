{
 "cells": [
  {
   "cell_type": "code",
   "execution_count": 1,
   "id": "367f225f",
   "metadata": {},
   "outputs": [],
   "source": [
    "import pandas as pd\n",
    "import numpy as np\n",
    "from BK_Tree import BKTree\n",
    "import re\n",
    "import string\n",
    "from dead_processing_utils import *\n",
    "from file_processing_utils import *"
   ]
  },
  {
   "cell_type": "markdown",
   "id": "29defeae",
   "metadata": {},
   "source": [
    "### Load in all the dead records as well as the determination key from the db"
   ]
  },
  {
   "cell_type": "code",
   "execution_count": 2,
   "id": "26801960",
   "metadata": {},
   "outputs": [
    {
     "name": "stdout",
     "output_type": "stream",
     "text": [
      "Index(['media handling record: fileName', 'taxon', 'Taxon record: family',\n",
      "       'objectNumber', 'Taxon record: naturalHistoryCommonName',\n",
      "       'fieldLocCountry', 'briefDescription', 'fieldCollector',\n",
      "       'fieldCollectionNumber', 'fieldCollectionDateGroup', 'source',\n",
      "       'accessionDate', 'Voucher record: Wild',\n",
      "       'Voucher record: Horticultural', 'reference',\n",
      "       'referenceGroup_reference', 'Distribution record: depositor_Plant',\n",
      "       'Distribution record: depositor_Seed', 'notes', 'deadFlag',\n",
      "       'flowerColor', 'comment'],\n",
      "      dtype='object')\n"
     ]
    }
   ],
   "source": [
    "folder_path = 'dead_records_data'\n",
    "input_df = concat_df(folder_path)\n",
    "print(input_df.columns)\n",
    "\n",
    "determination_key = pd.read_csv(\"data/NoAuthorTest.csv\")\n",
    "determination_key['no_author'] = determination_key['no_author'].apply(lambda x: punctStrip(x))"
   ]
  },
  {
   "cell_type": "markdown",
   "id": "1b7e7c62",
   "metadata": {},
   "source": [
    "### Determine the amount of dead card taxon already in the database verbatim "
   ]
  },
  {
   "cell_type": "code",
   "execution_count": 3,
   "id": "168e5ed1",
   "metadata": {},
   "outputs": [],
   "source": [
    "input_df = TaxonNoAuthor(input_df, 'taxon')\n",
    "input_df['***no_author'] = input_df['***no_author'].apply(lambda x: punctStrip(x))\n",
    "input_df['is_cultivar'] = input_df['***no_author'].apply(lambda x: detectCultivar(x))\n",
    "input_df['***no_author'] = input_df.apply(lambda x: x['***no_author'].split()[0] if x['is_cultivar'] else x['***no_author'], axis=1)"
   ]
  },
  {
   "cell_type": "code",
   "execution_count": 4,
   "id": "2017d64d",
   "metadata": {},
   "outputs": [
    {
     "name": "stdout",
     "output_type": "stream",
     "text": [
      "Total taxon: 13014\n",
      "Taxon not in database verbatim: 9169\n"
     ]
    }
   ],
   "source": [
    "input_df['taxon_missing'] = input_df['***no_author'].apply(lambda x: True if x not in determination_key['no_author'].values else False)\n",
    "taxon_to_add = input_df[input_df['taxon_missing']]['***no_author'].unique()\n",
    "taxon_to_add = input_df[input_df['***no_author'].isin(taxon_to_add)]\n",
    "already_in_db = input_df[~input_df['taxon_missing']]\n",
    "\n",
    "print(\"Total taxon: {}\".format(len(input_df['***no_author'].unique())))\n",
    "print(\"Taxon not in database verbatim: {}\".format(len(taxon_to_add)))"
   ]
  },
  {
   "cell_type": "markdown",
   "id": "2091e91b",
   "metadata": {},
   "source": [
    "### Post-processing before spell-check step"
   ]
  },
  {
   "cell_type": "code",
   "execution_count": 5,
   "id": "0ea61cfc",
   "metadata": {},
   "outputs": [
    {
     "name": "stderr",
     "output_type": "stream",
     "text": [
      "C:\\Users\\arman\\AppData\\Local\\Temp\\ipykernel_3144\\4255180081.py:1: SettingWithCopyWarning: \n",
      "A value is trying to be set on a copy of a slice from a DataFrame.\n",
      "Try using .loc[row_indexer,col_indexer] = value instead\n",
      "\n",
      "See the caveats in the documentation: https://pandas.pydata.org/pandas-docs/stable/user_guide/indexing.html#returning-a-view-versus-a-copy\n",
      "  taxon_to_add['***no_author_processed'] = taxon_to_add[\"***no_author\"].apply(lambda x: stripSp(x)).apply(lambda x: fixSsp(x))\n"
     ]
    }
   ],
   "source": [
    "taxon_to_add['***no_author_processed'] = taxon_to_add[\"***no_author\"].apply(lambda x: stripSp(x)).apply(lambda x: fixSsp(x))"
   ]
  },
  {
   "cell_type": "markdown",
   "id": "835b62da",
   "metadata": {},
   "source": [
    "### Create a list of all unique taxon_to_add"
   ]
  },
  {
   "cell_type": "code",
   "execution_count": 6,
   "id": "76435631",
   "metadata": {},
   "outputs": [],
   "source": [
    "taxon_to_add = taxon_to_add.drop_duplicates(['***no_author_processed']).reset_index(drop=True)"
   ]
  },
  {
   "cell_type": "markdown",
   "id": "186c929d",
   "metadata": {},
   "source": [
    "### Create a best guess taxon key using the Bk Tree"
   ]
  },
  {
   "cell_type": "code",
   "execution_count": 7,
   "id": "5fc63342",
   "metadata": {},
   "outputs": [],
   "source": [
    "taxaTree = BKTree()\n",
    "for name in determination_key['no_author']:\n",
    "    taxaTree.insert(name)"
   ]
  },
  {
   "cell_type": "code",
   "execution_count": 8,
   "id": "e94eaac6",
   "metadata": {},
   "outputs": [],
   "source": [
    "taxon_to_add['recommendation'] = taxon_to_add['***no_author_processed'].apply(lambda x: sortOutput(taxaTree.search(x, 2)))"
   ]
  },
  {
   "cell_type": "code",
   "execution_count": 9,
   "id": "99fd0a42",
   "metadata": {},
   "outputs": [],
   "source": [
    "subtractions = taxon_to_add[taxon_to_add['recommendation'].apply(lambda x: len(x) > 0)]\n",
    "taxon_to_add = taxon_to_add[taxon_to_add['recommendation'].apply(lambda x: len(x) == 0)]"
   ]
  },
  {
   "cell_type": "code",
   "execution_count": 10,
   "id": "2fbd4035",
   "metadata": {},
   "outputs": [
    {
     "name": "stdout",
     "output_type": "stream",
     "text": [
      "taxon already in database w/ spellcheck: 13320\n",
      "taxon to add: 6215\n"
     ]
    }
   ],
   "source": [
    "subtractions['***no_author'] = subtractions['recommendation'].apply(lambda x: x[0][0])\n",
    "subtractions = subtractions.drop('recommendation', axis=1)\n",
    "\n",
    "already_in_db = pd.concat([subtractions, already_in_db], axis=0, ignore_index=True)\n",
    "\n",
    "print(\"taxon already in database w/ spellcheck: {}\".format(len(already_in_db)))\n",
    "print(\"taxon to add: {}\".format(len(taxon_to_add)))"
   ]
  },
  {
   "cell_type": "markdown",
   "id": "a117a167",
   "metadata": {},
   "source": [
    "### Create a complete key with both taxon guesses and known taxon already in the db"
   ]
  },
  {
   "cell_type": "code",
   "execution_count": 11,
   "id": "13e1e1a7",
   "metadata": {},
   "outputs": [],
   "source": [
    "final_taxon_key = pd.DataFrame()\n",
    "final_taxon_key['deadcard_taxon'] = already_in_db['taxon']\n",
    "final_taxon_key = final_taxon_key.drop_duplicates().reset_index(drop=True)\n",
    "final_taxon_key['no_author_recommendation'] = already_in_db['***no_author']\n",
    "final_taxon_key['db_taxon'] = final_taxon_key['no_author_recommendation'].apply(lambda x: determination_key[determination_key['no_author'] == x]['0'].values[0])\n",
    "\n",
    "final_taxon_key.to_csv(\"output/final_taxon_key.csv\", index=False)"
   ]
  },
  {
   "cell_type": "markdown",
   "id": "2ac46ec0",
   "metadata": {},
   "source": [
    "### Create a list of all unique taxon that aren't in the database"
   ]
  },
  {
   "cell_type": "code",
   "execution_count": 14,
   "id": "db1a99b8",
   "metadata": {},
   "outputs": [
    {
     "name": "stdout",
     "output_type": "stream",
     "text": [
      "6215\n"
     ]
    }
   ],
   "source": [
    "taxon_to_add = taxon_to_add[['taxon', '***no_author']].drop_duplicates().reset_index(drop=True)\n",
    "taxon_to_add[\"***no_author\"] = taxon_to_add[\"***no_author\"].apply(lambda x: x.replace(\" var \", \" var. \").replace(\" ssp \", \" subsp. \").replace(\" cv \", \" cv. \"))\n",
    "taxon_to_add.to_csv(\"output/taxon_to_add.csv\", index=False)\n",
    "\n",
    "print(len(taxon_to_add))"
   ]
  }
 ],
 "metadata": {
  "kernelspec": {
   "display_name": "BK_Tree_Env",
   "language": "python",
   "name": "python3"
  },
  "language_info": {
   "codemirror_mode": {
    "name": "ipython",
    "version": 3
   },
   "file_extension": ".py",
   "mimetype": "text/x-python",
   "name": "python",
   "nbconvert_exporter": "python",
   "pygments_lexer": "ipython3",
   "version": "3.13.5"
  }
 },
 "nbformat": 4,
 "nbformat_minor": 5
}
