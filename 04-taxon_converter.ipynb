{
 "cells": [
  {
   "cell_type": "code",
   "execution_count": 1,
   "id": "367f225f",
   "metadata": {},
   "outputs": [
    {
     "name": "stdout",
     "output_type": "stream",
     "text": [
      "                                                 string  \\\n",
      "97                                               Arabia   \n",
      "251                               Brazil, South America   \n",
      "34                                               Alaska   \n",
      "1569                                              Natal   \n",
      "175                                                Bali   \n",
      "...                                                 ...   \n",
      "1998  Santa Catalina Island, Los Angeles County, Cal...   \n",
      "1997  Santa Barbara Island, Santa Barbara County, Ca...   \n",
      "195   Bazhong Prefecture, Nanjiang County, Sichuan P...   \n",
      "1517  Municipio San Cristobal de las Casas, Chiapas ...   \n",
      "1515  Municipio Pueblo Nuevo Solistahuacan, Chiapas ...   \n",
      "\n",
      "                                        stripped_string  score  \n",
      "97                                               arabia    3.0  \n",
      "251                                             brazil     3.0  \n",
      "34                                               alaska    4.0  \n",
      "1569                                              natal    4.0  \n",
      "175                                                bali    4.0  \n",
      "...                                                 ...    ...  \n",
      "1998  santa catalina island los angeles county calif...   53.0  \n",
      "1997  santa barbara island santa barbara county cali...   53.0  \n",
      "195   bazhong prefecture nanjiang county sichuan pro...   53.0  \n",
      "1517  municipio san cristobal de las casas chiapas s...   54.0  \n",
      "1515  municipio pueblo nuevo solistahuacan chiapas s...   55.0  \n",
      "\n",
      "[2621 rows x 3 columns]\n",
      "('Arabia', False)\n"
     ]
    }
   ],
   "source": [
    "import pandas as pd\n",
    "import numpy as np\n",
    "from BK_Tree import BKTree\n",
    "import re\n",
    "import string\n",
    "from dead_processing_utils import *\n",
    "from file_processing_utils import *"
   ]
  },
  {
   "cell_type": "markdown",
   "id": "29defeae",
   "metadata": {},
   "source": [
    "### Load in all the dead records as well as the determination key from the db"
   ]
  },
  {
   "cell_type": "code",
   "execution_count": 3,
   "id": "26801960",
   "metadata": {},
   "outputs": [
    {
     "name": "stdout",
     "output_type": "stream",
     "text": [
      "Index(['media handling record: fileName', 'taxon', 'Taxon record: family',\n",
      "       'objectNumber', 'Taxon record: naturalHistoryCommonName',\n",
      "       'fieldLocCountry', 'briefDescription', 'fieldCollector',\n",
      "       'fieldCollectionNumber', 'fieldCollectionDateGroup', 'source',\n",
      "       'accessionDate', 'Voucher record: Wild',\n",
      "       'Voucher record: Horticultural', 'reference',\n",
      "       'referenceGroup_reference', 'Distribution record: depositor_Plant',\n",
      "       'Distribution record: depositor_Seed', 'notes', 'deadFlag',\n",
      "       'flowerColor', 'comment'],\n",
      "      dtype='object')\n"
     ]
    }
   ],
   "source": [
    "folder_path = 'dead_records_data'\n",
    "input_df = concat_df(folder_path)\n",
    "print(input_df.columns)\n",
    "\n",
    "determination_key = pd.read_csv(\"data/NoAuthorTest.csv\")\n",
    "determination_key['no_author'] = determination_key['no_author'].apply(lambda x: punctStrip(x))"
   ]
  },
  {
   "cell_type": "markdown",
   "id": "1b7e7c62",
   "metadata": {},
   "source": [
    "### Determine the amount of dead card taxon already in the database verbatim "
   ]
  },
  {
   "cell_type": "code",
   "execution_count": 4,
   "id": "168e5ed1",
   "metadata": {},
   "outputs": [],
   "source": [
    "input_df = TaxonNoAuthor(input_df, 'taxon')\n",
    "input_df['***no_author'] = input_df['***no_author'].apply(lambda x: punctStrip(x))\n",
    "input_df['is_cultivar'] = input_df['***no_author'].apply(lambda x: detectCultivar(x))\n",
    "input_df['***no_author'] = input_df.apply(lambda x: x['***no_author'].split()[0] if x['is_cultivar'] else x['***no_author'], axis=1)"
   ]
  },
  {
   "cell_type": "code",
   "execution_count": null,
   "id": "2017d64d",
   "metadata": {},
   "outputs": [
    {
     "name": "stdout",
     "output_type": "stream",
     "text": [
      "Total taxon: 2\n",
      "Taxon not in database verbatim: 9184\n"
     ]
    }
   ],
   "source": [
    "input_df['taxon_missing'] = input_df['***no_author'].apply(lambda x: True if x not in determination_key['no_author'].values else False)\n",
    "taxon_to_add = input_df[input_df['taxon_missing']]['***no_author'].unique()\n",
    "taxon_to_add = input_df[input_df['***no_author'].isin(taxon_to_add)]\n",
    "already_in_db = input_df[~input_df['taxon_missing']]\n",
    "\n",
    "print(\"Total taxon: {}\".format(len(input_df['***no_author'].unique())))\n",
    "print(\"Taxon not in database verbatim: {}\".format(len(taxon_to_add)))"
   ]
  },
  {
   "cell_type": "markdown",
   "id": "186c929d",
   "metadata": {},
   "source": [
    "### Create a best guess taxon key using the Bk Tree"
   ]
  },
  {
   "cell_type": "code",
   "execution_count": null,
   "id": "5fc63342",
   "metadata": {},
   "outputs": [],
   "source": [
    "taxaTree = BKTree()\n",
    "for name in determination_key['no_author']:\n",
    "    taxaTree.insert(name)"
   ]
  },
  {
   "cell_type": "code",
   "execution_count": null,
   "id": "e94eaac6",
   "metadata": {},
   "outputs": [],
   "source": [
    "taxon_to_add['recommendation'] = taxon_to_add['***no_author'].apply(lambda x: sortOutput(taxaTree.search(x, 2)))"
   ]
  },
  {
   "cell_type": "code",
   "execution_count": null,
   "id": "ce536564",
   "metadata": {},
   "outputs": [],
   "source": [
    "taxon_to_add.to_csv(\"output/taxon_to_add.csv\", index=False)"
   ]
  },
  {
   "cell_type": "markdown",
   "id": "a117a167",
   "metadata": {},
   "source": [
    "### Create a complete key with both taxn guesses and known taxon already in the db"
   ]
  },
  {
   "cell_type": "code",
   "execution_count": null,
   "id": "13e1e1a7",
   "metadata": {},
   "outputs": [],
   "source": []
  }
 ],
 "metadata": {
  "kernelspec": {
   "display_name": "BK_Tree_Env",
   "language": "python",
   "name": "python3"
  },
  "language_info": {
   "codemirror_mode": {
    "name": "ipython",
    "version": 3
   },
   "file_extension": ".py",
   "mimetype": "text/x-python",
   "name": "python",
   "nbconvert_exporter": "python",
   "pygments_lexer": "ipython3",
   "version": "3.13.5"
  }
 },
 "nbformat": 4,
 "nbformat_minor": 5
}
