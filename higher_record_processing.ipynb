{
 "cells": [
  {
   "cell_type": "code",
   "execution_count": 24,
   "id": "f89862ba",
   "metadata": {},
   "outputs": [],
   "source": [
    "from file_processing_utils import *\n",
    "from dead_processing_utils import *\n",
    "from BK_Tree import BKTree"
   ]
  },
  {
   "cell_type": "code",
   "execution_count": 25,
   "id": "03d35d30",
   "metadata": {},
   "outputs": [
    {
     "name": "stdout",
     "output_type": "stream",
     "text": [
      "Index(['media handling record: fileName', 'taxon', 'Taxon record: family',\n",
      "       'objectNumber', 'Taxon record: naturalHistoryCommonName',\n",
      "       'fieldLocCountry', 'briefDescription', 'fieldCollector',\n",
      "       'fieldCollectionNumber', 'fieldCollectionDateGroup', 'source',\n",
      "       'accessionDate', 'Voucher record: Wild',\n",
      "       'Voucher record: Horticultural', 'reference',\n",
      "       'referenceGroup_reference', 'Distribution record: depositor_Plant',\n",
      "       'Distribution record: depositor_Seed', 'notes', 'deadFlag',\n",
      "       'flowerColor', 'comment'],\n",
      "      dtype='object')\n"
     ]
    }
   ],
   "source": [
    "folder_path = 'dead_records_data'\n",
    "full_data = concat_df(folder_path)\n",
    "print(full_data.columns)"
   ]
  },
  {
   "cell_type": "code",
   "execution_count": 26,
   "id": "02246d62",
   "metadata": {},
   "outputs": [
    {
     "name": "stdout",
     "output_type": "stream",
     "text": [
      "781\n",
      "2173\n"
     ]
    }
   ],
   "source": [
    "unique_collectors = pd.DataFrame(full_data['fieldCollector'].unique())\n",
    "print(len(unique_collectors))\n",
    "print(len(full_data['fieldCollector'].dropna()))"
   ]
  },
  {
   "cell_type": "code",
   "execution_count": 27,
   "id": "e1c78daa",
   "metadata": {},
   "outputs": [],
   "source": [
    "author_key = pd.read_csv('data/Authors.csv')"
   ]
  },
  {
   "cell_type": "code",
   "execution_count": 28,
   "id": "0298121c",
   "metadata": {},
   "outputs": [],
   "source": [
    "authorTree = BKTree()\n",
    "for name in author_key['0']:\n",
    "    authorTree.insert(str(name))"
   ]
  },
  {
   "cell_type": "code",
   "execution_count": 29,
   "id": "e8ba3053",
   "metadata": {},
   "outputs": [],
   "source": [
    "unique_collectors['reformatted'] = unique_collectors[0].apply(lambda x: reformatCol(str(x)))\n",
    "unique_collectors = unique_collectors.dropna()\n",
    "unique_collectors['most_similar'] = unique_collectors['reformatted'].apply(lambda x: sortOutput(authorTree.search(str(x), 2)))"
   ]
  },
  {
   "cell_type": "code",
   "execution_count": 30,
   "id": "cc400c45",
   "metadata": {},
   "outputs": [],
   "source": [
    "unique_collectors.to_csv('output/unique_collectors.csv', index=False)"
   ]
  }
 ],
 "metadata": {
  "kernelspec": {
   "display_name": "BK_Tree_Env",
   "language": "python",
   "name": "python3"
  },
  "language_info": {
   "codemirror_mode": {
    "name": "ipython",
    "version": 3
   },
   "file_extension": ".py",
   "mimetype": "text/x-python",
   "name": "python",
   "nbconvert_exporter": "python",
   "pygments_lexer": "ipython3",
   "version": "3.13.5"
  }
 },
 "nbformat": 4,
 "nbformat_minor": 5
}
