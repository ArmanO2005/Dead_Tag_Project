{
 "cells": [
  {
   "cell_type": "code",
   "execution_count": 16,
   "id": "f89862ba",
   "metadata": {},
   "outputs": [],
   "source": [
    "from file_processing_utils import *\n",
    "from dead_processing_utils import *"
   ]
  },
  {
   "cell_type": "code",
   "execution_count": 17,
   "id": "03d35d30",
   "metadata": {},
   "outputs": [
    {
     "name": "stdout",
     "output_type": "stream",
     "text": [
      "Index(['media handling record: fileName', 'taxon', 'Taxon record: family',\n",
      "       'objectNumber', 'Taxon record: naturalHistoryCommonName',\n",
      "       'fieldLocCountry', 'briefDescription', 'fieldCollector',\n",
      "       'fieldCollectionNumber', 'fieldCollectionDateGroup', 'source',\n",
      "       'accessionDate', 'Voucher record: Wild',\n",
      "       'Voucher record: Horticultural', 'reference',\n",
      "       'referenceGroup_reference', 'Distribution record: depositor_Plant',\n",
      "       'Distribution record: depositor_Seed', 'notes', 'deadFlag',\n",
      "       'flowerColor', 'comment'],\n",
      "      dtype='object')\n"
     ]
    }
   ],
   "source": [
    "folder_path = 'dead_records_data'\n",
    "full_data = concat_df(folder_path)\n",
    "print(full_data.columns)"
   ]
  },
  {
   "cell_type": "code",
   "execution_count": 18,
   "id": "02246d62",
   "metadata": {},
   "outputs": [
    {
     "name": "stdout",
     "output_type": "stream",
     "text": [
      "781\n",
      "2173\n"
     ]
    }
   ],
   "source": [
    "unique_collectors = pd.DataFrame(full_data['fieldCollector'].unique())\n",
    "print(len(unique_collectors))\n",
    "print(len(full_data['fieldCollector'].dropna()))"
   ]
  },
  {
   "cell_type": "code",
   "execution_count": null,
   "id": "dd1017a5",
   "metadata": {},
   "outputs": [
    {
     "name": "stdout",
     "output_type": "stream",
     "text": [
      "                                       0               ***DbCollectorGuess\n",
      "0                            Joseph Rock                              Rock\n",
      "1                                    NaN                              None\n",
      "2                      Margaret Williams                       S. Williams\n",
      "3                      H-M. & R.S. Beard                 H-M. & R.S. Beard\n",
      "4                            W. Roderick                       Roderick W.\n",
      "..                                   ...                               ...\n",
      "776                          Donald Dorn                        Donald, J.\n",
      "777             w. Roderick, M. Roderick        Roderick, W. & M. Roderick\n",
      "778            E. McClintock & W. Knight        McClintock, E. & J. Dodson\n",
      "779  H. Herre, Stellenbosch South Africa  Herre, H., Stellenbosch Bot. Gdn\n",
      "780                       Dr. H.G. Baker                       Baker, H.G.\n",
      "\n",
      "[781 rows x 2 columns]\n"
     ]
    }
   ],
   "source": [
    "MatchCollector(unique_collectors, 0)"
   ]
  },
  {
   "cell_type": "code",
   "execution_count": null,
   "id": "cc400c45",
   "metadata": {},
   "outputs": [],
   "source": []
  }
 ],
 "metadata": {
  "kernelspec": {
   "display_name": "BK_Tree_Env",
   "language": "python",
   "name": "python3"
  },
  "language_info": {
   "codemirror_mode": {
    "name": "ipython",
    "version": 3
   },
   "file_extension": ".py",
   "mimetype": "text/x-python",
   "name": "python",
   "nbconvert_exporter": "python",
   "pygments_lexer": "ipython3",
   "version": "3.13.5"
  }
 },
 "nbformat": 4,
 "nbformat_minor": 5
}
